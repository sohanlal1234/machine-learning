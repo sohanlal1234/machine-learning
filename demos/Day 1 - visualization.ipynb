{
 "cells": [
  {
   "cell_type": "code",
   "execution_count": 2,
   "metadata": {},
   "outputs": [],
   "source": [
    "import pandas as pd"
   ]
  },
  {
   "cell_type": "code",
   "execution_count": 3,
   "metadata": {},
   "outputs": [
    {
     "data": {
      "text/html": [
       "<div>\n",
       "<style scoped>\n",
       "    .dataframe tbody tr th:only-of-type {\n",
       "        vertical-align: middle;\n",
       "    }\n",
       "\n",
       "    .dataframe tbody tr th {\n",
       "        vertical-align: top;\n",
       "    }\n",
       "\n",
       "    .dataframe thead th {\n",
       "        text-align: right;\n",
       "    }\n",
       "</style>\n",
       "<table border=\"1\" class=\"dataframe\">\n",
       "  <thead>\n",
       "    <tr style=\"text-align: right;\">\n",
       "      <th></th>\n",
       "      <th>age</th>\n",
       "      <th>gender</th>\n",
       "      <th>bmi</th>\n",
       "      <th>children</th>\n",
       "      <th>smoker</th>\n",
       "      <th>region</th>\n",
       "      <th>charges</th>\n",
       "    </tr>\n",
       "  </thead>\n",
       "  <tbody>\n",
       "    <tr>\n",
       "      <th>0</th>\n",
       "      <td>19</td>\n",
       "      <td>female</td>\n",
       "      <td>27.900</td>\n",
       "      <td>0</td>\n",
       "      <td>yes</td>\n",
       "      <td>southwest</td>\n",
       "      <td>16884.92400</td>\n",
       "    </tr>\n",
       "    <tr>\n",
       "      <th>1</th>\n",
       "      <td>18</td>\n",
       "      <td>male</td>\n",
       "      <td>33.770</td>\n",
       "      <td>1</td>\n",
       "      <td>no</td>\n",
       "      <td>southeast</td>\n",
       "      <td>1725.55230</td>\n",
       "    </tr>\n",
       "    <tr>\n",
       "      <th>2</th>\n",
       "      <td>28</td>\n",
       "      <td>male</td>\n",
       "      <td>33.000</td>\n",
       "      <td>3</td>\n",
       "      <td>no</td>\n",
       "      <td>southeast</td>\n",
       "      <td>4449.46200</td>\n",
       "    </tr>\n",
       "    <tr>\n",
       "      <th>3</th>\n",
       "      <td>33</td>\n",
       "      <td>male</td>\n",
       "      <td>22.705</td>\n",
       "      <td>0</td>\n",
       "      <td>no</td>\n",
       "      <td>northwest</td>\n",
       "      <td>21984.47061</td>\n",
       "    </tr>\n",
       "    <tr>\n",
       "      <th>4</th>\n",
       "      <td>32</td>\n",
       "      <td>male</td>\n",
       "      <td>28.880</td>\n",
       "      <td>0</td>\n",
       "      <td>no</td>\n",
       "      <td>northwest</td>\n",
       "      <td>3866.85520</td>\n",
       "    </tr>\n",
       "  </tbody>\n",
       "</table>\n",
       "</div>"
      ],
      "text/plain": [
       "   age  gender     bmi  children smoker     region      charges\n",
       "0   19  female  27.900         0    yes  southwest  16884.92400\n",
       "1   18    male  33.770         1     no  southeast   1725.55230\n",
       "2   28    male  33.000         3     no  southeast   4449.46200\n",
       "3   33    male  22.705         0     no  northwest  21984.47061\n",
       "4   32    male  28.880         0     no  northwest   3866.85520"
      ]
     },
     "execution_count": 3,
     "metadata": {},
     "output_type": "execute_result"
    }
   ],
   "source": [
    "df = pd.read_csv(\"/data/insurance.csv\")\n",
    "df.head()"
   ]
  },
  {
   "cell_type": "code",
   "execution_count": 4,
   "metadata": {},
   "outputs": [],
   "source": [
    "import matplotlib.pyplot as plt"
   ]
  },
  {
   "cell_type": "code",
   "execution_count": 5,
   "metadata": {},
   "outputs": [],
   "source": [
    "%matplotlib inline"
   ]
  },
  {
   "cell_type": "code",
   "execution_count": 6,
   "metadata": {},
   "outputs": [
    {
     "data": {
      "text/plain": [
       "Text(0.5, 1.0, 'Histogram of age')"
      ]
     },
     "execution_count": 6,
     "metadata": {},
     "output_type": "execute_result"
    },
    {
     "data": {
      "image/png": "[encoded data removed]",
      "text/plain": [
       "<Figure size 432x288 with 1 Axes>"
      ]
     },
     "metadata": {
      "needs_background": "light"
     },
     "output_type": "display_data"
    }
   ],
   "source": [
    "df.age.hist(bins = 20)\n",
    "plt.xlabel(\"Age\")\n",
    "plt.ylabel(\"Frequency\")\n",
    "plt.title(\"Histogram of age\")"
   ]
  },
  {
   "cell_type": "code",
   "execution_count": 35,
   "metadata": {},
   "outputs": [
    {
     "data": {
      "text/plain": [
       "Text(0.5, 1.0, 'Histogram of charges')"
      ]
     },
     "execution_count": 35,
     "metadata": {},
     "output_type": "execute_result"
    },
    {
     "data": {
      "image/png": "[encoded data removed]",
      "text/plain": [
       "<Figure size 432x288 with 1 Axes>"
      ]
     },
     "metadata": {
      "needs_background": "light"
     },
     "output_type": "display_data"
    }
   ],
   "source": [
    "df.charges.hist(bins = 35)\n",
    "plt.xlabel(\"Charges\")\n",
    "plt.ylabel(\"Frequency\")\n",
    "plt.title(\"Histogram of charges\")"
   ]
  },
  {
   "cell_type": "code",
   "execution_count": 10,
   "metadata": {},
   "outputs": [
    {
     "data": {
      "text/plain": [
       "Text(0.5, 1.0, 'Histogram of age')"
      ]
     },
     "execution_count": 10,
     "metadata": {},
     "output_type": "execute_result"
    },
    {
     "data": {
      "image/png": "[encoded data removed]",
      "text/plain": [
       "<Figure size 432x288 with 1 Axes>"
      ]
     },
     "metadata": {
      "needs_background": "light"
     },
     "output_type": "display_data"
    }
   ],
   "source": [
    "df.bmi.hist(bins = 10)\n",
    "plt.xlabel(\"bmi\")\n",
    "plt.ylabel(\"Frequency\")\n",
    "plt.title(\"Histogram of age\")"
   ]
  },
  {
   "cell_type": "code",
   "execution_count": 11,
   "metadata": {},
   "outputs": [
    {
     "data": {
      "text/plain": [
       "Text(0.5, 1.0, 'Histogram of age')"
      ]
     },
     "execution_count": 11,
     "metadata": {},
     "output_type": "execute_result"
    },
    {
     "data": {
      "image/png": "[encoded data removed]",
      "text/plain": [
       "<Figure size 432x288 with 1 Axes>"
      ]
     },
     "metadata": {
      "needs_background": "light"
     },
     "output_type": "display_data"
    }
   ],
   "source": [
    "df.bmi.hist(bins = 35)\n",
    "plt.xlabel(\"bmi\")\n",
    "plt.ylabel(\"Frequency\")\n",
    "plt.title(\"Histogram of age\")"
   ]
  },
  {
   "cell_type": "code",
   "execution_count": 12,
   "metadata": {},
   "outputs": [
    {
     "data": {
      "text/plain": [
       "<matplotlib.axes._subplots.AxesSubplot at 0x11cfa6e10>"
      ]
     },
     "execution_count": 12,
     "metadata": {},
     "output_type": "execute_result"
    },
    {
     "data": {
      "image/png": "[encoded data removed]",
      "text/plain": [
       "<Figure size 432x288 with 1 Axes>"
      ]
     },
     "metadata": {
      "needs_background": "light"
     },
     "output_type": "display_data"
    }
   ],
   "source": [
    "df.charges.plot.box()"
   ]
  },
  {
   "cell_type": "code",
   "execution_count": 13,
   "metadata": {},
   "outputs": [],
   "source": [
    "import numpy as np"
   ]
  },
  {
   "cell_type": "code",
   "execution_count": 14,
   "metadata": {},
   "outputs": [
    {
     "data": {
      "text/plain": [
       "array([ 4740.28715 ,  9382.033   , 16639.912515])"
      ]
     },
     "execution_count": 14,
     "metadata": {},
     "output_type": "execute_result"
    }
   ],
   "source": [
    "np.percentile(df.charges, [25, 50, 75])"
   ]
  },
  {
   "cell_type": "code",
   "execution_count": 15,
   "metadata": {},
   "outputs": [
    {
     "data": {
      "text/plain": [
       "(335, 7)"
      ]
     },
     "execution_count": 15,
     "metadata": {},
     "output_type": "execute_result"
    }
   ],
   "source": [
    "df[df.charges<4740].shape"
   ]
  },
  {
   "cell_type": "code",
   "execution_count": 16,
   "metadata": {},
   "outputs": [
    {
     "data": {
      "text/plain": [
       "0.25037369207772797"
      ]
     },
     "execution_count": 16,
     "metadata": {},
     "output_type": "execute_result"
    }
   ],
   "source": [
    "335/len(df)"
   ]
  },
  {
   "cell_type": "code",
   "execution_count": 17,
   "metadata": {},
   "outputs": [
    {
     "data": {
      "text/plain": [
       "(9.833333333333334, 7.5)"
      ]
     },
     "execution_count": 17,
     "metadata": {},
     "output_type": "execute_result"
    }
   ],
   "source": [
    "a = np.array([13, 20, 5, 6, 7, 8])\n",
    "np.mean(a), np.median(a)"
   ]
  },
  {
   "cell_type": "code",
   "execution_count": 18,
   "metadata": {},
   "outputs": [
    {
     "data": {
      "text/plain": [
       "(22.714285714285715, 8.0)"
      ]
     },
     "execution_count": 18,
     "metadata": {},
     "output_type": "execute_result"
    }
   ],
   "source": [
    "a = np.array([13, 20, 5, 6, 7, 8, 100])\n",
    "np.mean(a), np.median(a)"
   ]
  },
  {
   "cell_type": "code",
   "execution_count": 22,
   "metadata": {},
   "outputs": [],
   "source": [
    "def find_outliers(a):\n",
    "    q1, q3 = np.percentile(a, [25, 75])\n",
    "    iqr = q3 - q1\n",
    "    upper_whisker = min(q3 + 1.5 * iqr, np.max(a))\n",
    "    lower_whisker = max(q1-1.5*iqr, np.min(a))\n",
    "    print(\"Boundaries\", (lower_whisker, upper_whisker))\n",
    "    return (a<lower_whisker) | (a>upper_whisker)\n"
   ]
  },
  {
   "cell_type": "code",
   "execution_count": 23,
   "metadata": {},
   "outputs": [
    {
     "name": "stdout",
     "output_type": "stream",
     "text": [
      "Boundaries (1121.8739, 34489.350562499996)\n"
     ]
    },
    {
     "data": {
      "text/html": [
       "<div>\n",
       "<style scoped>\n",
       "    .dataframe tbody tr th:only-of-type {\n",
       "        vertical-align: middle;\n",
       "    }\n",
       "\n",
       "    .dataframe tbody tr th {\n",
       "        vertical-align: top;\n",
       "    }\n",
       "\n",
       "    .dataframe thead th {\n",
       "        text-align: right;\n",
       "    }\n",
       "</style>\n",
       "<table border=\"1\" class=\"dataframe\">\n",
       "  <thead>\n",
       "    <tr style=\"text-align: right;\">\n",
       "      <th></th>\n",
       "      <th>age</th>\n",
       "      <th>gender</th>\n",
       "      <th>bmi</th>\n",
       "      <th>children</th>\n",
       "      <th>smoker</th>\n",
       "      <th>region</th>\n",
       "      <th>charges</th>\n",
       "    </tr>\n",
       "  </thead>\n",
       "  <tbody>\n",
       "    <tr>\n",
       "      <th>14</th>\n",
       "      <td>27</td>\n",
       "      <td>male</td>\n",
       "      <td>42.130</td>\n",
       "      <td>0</td>\n",
       "      <td>yes</td>\n",
       "      <td>southeast</td>\n",
       "      <td>39611.75770</td>\n",
       "    </tr>\n",
       "    <tr>\n",
       "      <th>19</th>\n",
       "      <td>30</td>\n",
       "      <td>male</td>\n",
       "      <td>35.300</td>\n",
       "      <td>0</td>\n",
       "      <td>yes</td>\n",
       "      <td>southwest</td>\n",
       "      <td>36837.46700</td>\n",
       "    </tr>\n",
       "    <tr>\n",
       "      <th>23</th>\n",
       "      <td>34</td>\n",
       "      <td>female</td>\n",
       "      <td>31.920</td>\n",
       "      <td>1</td>\n",
       "      <td>yes</td>\n",
       "      <td>northeast</td>\n",
       "      <td>37701.87680</td>\n",
       "    </tr>\n",
       "    <tr>\n",
       "      <th>29</th>\n",
       "      <td>31</td>\n",
       "      <td>male</td>\n",
       "      <td>36.300</td>\n",
       "      <td>2</td>\n",
       "      <td>yes</td>\n",
       "      <td>southwest</td>\n",
       "      <td>38711.00000</td>\n",
       "    </tr>\n",
       "    <tr>\n",
       "      <th>30</th>\n",
       "      <td>22</td>\n",
       "      <td>male</td>\n",
       "      <td>35.600</td>\n",
       "      <td>0</td>\n",
       "      <td>yes</td>\n",
       "      <td>southwest</td>\n",
       "      <td>35585.57600</td>\n",
       "    </tr>\n",
       "    <tr>\n",
       "      <th>34</th>\n",
       "      <td>28</td>\n",
       "      <td>male</td>\n",
       "      <td>36.400</td>\n",
       "      <td>1</td>\n",
       "      <td>yes</td>\n",
       "      <td>southwest</td>\n",
       "      <td>51194.55914</td>\n",
       "    </tr>\n",
       "    <tr>\n",
       "      <th>38</th>\n",
       "      <td>35</td>\n",
       "      <td>male</td>\n",
       "      <td>36.670</td>\n",
       "      <td>1</td>\n",
       "      <td>yes</td>\n",
       "      <td>northeast</td>\n",
       "      <td>39774.27630</td>\n",
       "    </tr>\n",
       "    <tr>\n",
       "      <th>39</th>\n",
       "      <td>60</td>\n",
       "      <td>male</td>\n",
       "      <td>39.900</td>\n",
       "      <td>0</td>\n",
       "      <td>yes</td>\n",
       "      <td>southwest</td>\n",
       "      <td>48173.36100</td>\n",
       "    </tr>\n",
       "    <tr>\n",
       "      <th>49</th>\n",
       "      <td>36</td>\n",
       "      <td>male</td>\n",
       "      <td>35.200</td>\n",
       "      <td>1</td>\n",
       "      <td>yes</td>\n",
       "      <td>southeast</td>\n",
       "      <td>38709.17600</td>\n",
       "    </tr>\n",
       "    <tr>\n",
       "      <th>53</th>\n",
       "      <td>36</td>\n",
       "      <td>male</td>\n",
       "      <td>34.430</td>\n",
       "      <td>0</td>\n",
       "      <td>yes</td>\n",
       "      <td>southeast</td>\n",
       "      <td>37742.57570</td>\n",
       "    </tr>\n",
       "    <tr>\n",
       "      <th>55</th>\n",
       "      <td>58</td>\n",
       "      <td>male</td>\n",
       "      <td>36.955</td>\n",
       "      <td>2</td>\n",
       "      <td>yes</td>\n",
       "      <td>northwest</td>\n",
       "      <td>47496.49445</td>\n",
       "    </tr>\n",
       "    <tr>\n",
       "      <th>82</th>\n",
       "      <td>22</td>\n",
       "      <td>male</td>\n",
       "      <td>37.620</td>\n",
       "      <td>1</td>\n",
       "      <td>yes</td>\n",
       "      <td>southeast</td>\n",
       "      <td>37165.16380</td>\n",
       "    </tr>\n",
       "    <tr>\n",
       "      <th>84</th>\n",
       "      <td>37</td>\n",
       "      <td>female</td>\n",
       "      <td>34.800</td>\n",
       "      <td>2</td>\n",
       "      <td>yes</td>\n",
       "      <td>southwest</td>\n",
       "      <td>39836.51900</td>\n",
       "    </tr>\n",
       "    <tr>\n",
       "      <th>86</th>\n",
       "      <td>57</td>\n",
       "      <td>female</td>\n",
       "      <td>31.160</td>\n",
       "      <td>0</td>\n",
       "      <td>yes</td>\n",
       "      <td>northwest</td>\n",
       "      <td>43578.93940</td>\n",
       "    </tr>\n",
       "    <tr>\n",
       "      <th>94</th>\n",
       "      <td>64</td>\n",
       "      <td>female</td>\n",
       "      <td>31.300</td>\n",
       "      <td>2</td>\n",
       "      <td>yes</td>\n",
       "      <td>southwest</td>\n",
       "      <td>47291.05500</td>\n",
       "    </tr>\n",
       "    <tr>\n",
       "      <th>109</th>\n",
       "      <td>63</td>\n",
       "      <td>male</td>\n",
       "      <td>35.090</td>\n",
       "      <td>0</td>\n",
       "      <td>yes</td>\n",
       "      <td>southeast</td>\n",
       "      <td>47055.53210</td>\n",
       "    </tr>\n",
       "    <tr>\n",
       "      <th>123</th>\n",
       "      <td>44</td>\n",
       "      <td>male</td>\n",
       "      <td>31.350</td>\n",
       "      <td>1</td>\n",
       "      <td>yes</td>\n",
       "      <td>northeast</td>\n",
       "      <td>39556.49450</td>\n",
       "    </tr>\n",
       "    <tr>\n",
       "      <th>146</th>\n",
       "      <td>46</td>\n",
       "      <td>male</td>\n",
       "      <td>30.495</td>\n",
       "      <td>3</td>\n",
       "      <td>yes</td>\n",
       "      <td>northwest</td>\n",
       "      <td>40720.55105</td>\n",
       "    </tr>\n",
       "    <tr>\n",
       "      <th>158</th>\n",
       "      <td>30</td>\n",
       "      <td>male</td>\n",
       "      <td>35.530</td>\n",
       "      <td>0</td>\n",
       "      <td>yes</td>\n",
       "      <td>southeast</td>\n",
       "      <td>36950.25670</td>\n",
       "    </tr>\n",
       "    <tr>\n",
       "      <th>161</th>\n",
       "      <td>18</td>\n",
       "      <td>female</td>\n",
       "      <td>36.850</td>\n",
       "      <td>0</td>\n",
       "      <td>yes</td>\n",
       "      <td>southeast</td>\n",
       "      <td>36149.48350</td>\n",
       "    </tr>\n",
       "    <tr>\n",
       "      <th>175</th>\n",
       "      <td>63</td>\n",
       "      <td>female</td>\n",
       "      <td>37.700</td>\n",
       "      <td>0</td>\n",
       "      <td>yes</td>\n",
       "      <td>southwest</td>\n",
       "      <td>48824.45000</td>\n",
       "    </tr>\n",
       "    <tr>\n",
       "      <th>185</th>\n",
       "      <td>36</td>\n",
       "      <td>male</td>\n",
       "      <td>41.895</td>\n",
       "      <td>3</td>\n",
       "      <td>yes</td>\n",
       "      <td>northeast</td>\n",
       "      <td>43753.33705</td>\n",
       "    </tr>\n",
       "    <tr>\n",
       "      <th>203</th>\n",
       "      <td>27</td>\n",
       "      <td>female</td>\n",
       "      <td>36.080</td>\n",
       "      <td>0</td>\n",
       "      <td>yes</td>\n",
       "      <td>southeast</td>\n",
       "      <td>37133.89820</td>\n",
       "    </tr>\n",
       "    <tr>\n",
       "      <th>223</th>\n",
       "      <td>19</td>\n",
       "      <td>male</td>\n",
       "      <td>34.800</td>\n",
       "      <td>0</td>\n",
       "      <td>yes</td>\n",
       "      <td>southwest</td>\n",
       "      <td>34779.61500</td>\n",
       "    </tr>\n",
       "    <tr>\n",
       "      <th>240</th>\n",
       "      <td>23</td>\n",
       "      <td>female</td>\n",
       "      <td>36.670</td>\n",
       "      <td>2</td>\n",
       "      <td>yes</td>\n",
       "      <td>northeast</td>\n",
       "      <td>38511.62830</td>\n",
       "    </tr>\n",
       "    <tr>\n",
       "      <th>242</th>\n",
       "      <td>55</td>\n",
       "      <td>female</td>\n",
       "      <td>26.800</td>\n",
       "      <td>1</td>\n",
       "      <td>no</td>\n",
       "      <td>southwest</td>\n",
       "      <td>35160.13457</td>\n",
       "    </tr>\n",
       "    <tr>\n",
       "      <th>251</th>\n",
       "      <td>63</td>\n",
       "      <td>female</td>\n",
       "      <td>32.200</td>\n",
       "      <td>2</td>\n",
       "      <td>yes</td>\n",
       "      <td>southwest</td>\n",
       "      <td>47305.30500</td>\n",
       "    </tr>\n",
       "    <tr>\n",
       "      <th>252</th>\n",
       "      <td>54</td>\n",
       "      <td>male</td>\n",
       "      <td>34.210</td>\n",
       "      <td>2</td>\n",
       "      <td>yes</td>\n",
       "      <td>southeast</td>\n",
       "      <td>44260.74990</td>\n",
       "    </tr>\n",
       "    <tr>\n",
       "      <th>254</th>\n",
       "      <td>50</td>\n",
       "      <td>male</td>\n",
       "      <td>31.825</td>\n",
       "      <td>0</td>\n",
       "      <td>yes</td>\n",
       "      <td>northeast</td>\n",
       "      <td>41097.16175</td>\n",
       "    </tr>\n",
       "    <tr>\n",
       "      <th>256</th>\n",
       "      <td>56</td>\n",
       "      <td>male</td>\n",
       "      <td>33.630</td>\n",
       "      <td>0</td>\n",
       "      <td>yes</td>\n",
       "      <td>northwest</td>\n",
       "      <td>43921.18370</td>\n",
       "    </tr>\n",
       "    <tr>\n",
       "      <th>...</th>\n",
       "      <td>...</td>\n",
       "      <td>...</td>\n",
       "      <td>...</td>\n",
       "      <td>...</td>\n",
       "      <td>...</td>\n",
       "      <td>...</td>\n",
       "      <td>...</td>\n",
       "    </tr>\n",
       "    <tr>\n",
       "      <th>1062</th>\n",
       "      <td>59</td>\n",
       "      <td>male</td>\n",
       "      <td>41.140</td>\n",
       "      <td>1</td>\n",
       "      <td>yes</td>\n",
       "      <td>southeast</td>\n",
       "      <td>48970.24760</td>\n",
       "    </tr>\n",
       "    <tr>\n",
       "      <th>1070</th>\n",
       "      <td>37</td>\n",
       "      <td>male</td>\n",
       "      <td>37.070</td>\n",
       "      <td>1</td>\n",
       "      <td>yes</td>\n",
       "      <td>southeast</td>\n",
       "      <td>39871.70430</td>\n",
       "    </tr>\n",
       "    <tr>\n",
       "      <th>1078</th>\n",
       "      <td>28</td>\n",
       "      <td>male</td>\n",
       "      <td>31.680</td>\n",
       "      <td>0</td>\n",
       "      <td>yes</td>\n",
       "      <td>southeast</td>\n",
       "      <td>34672.14720</td>\n",
       "    </tr>\n",
       "    <tr>\n",
       "      <th>1090</th>\n",
       "      <td>47</td>\n",
       "      <td>male</td>\n",
       "      <td>36.190</td>\n",
       "      <td>0</td>\n",
       "      <td>yes</td>\n",
       "      <td>southeast</td>\n",
       "      <td>41676.08110</td>\n",
       "    </tr>\n",
       "    <tr>\n",
       "      <th>1096</th>\n",
       "      <td>51</td>\n",
       "      <td>female</td>\n",
       "      <td>34.960</td>\n",
       "      <td>2</td>\n",
       "      <td>yes</td>\n",
       "      <td>northeast</td>\n",
       "      <td>44641.19740</td>\n",
       "    </tr>\n",
       "    <tr>\n",
       "      <th>1111</th>\n",
       "      <td>38</td>\n",
       "      <td>male</td>\n",
       "      <td>38.390</td>\n",
       "      <td>3</td>\n",
       "      <td>yes</td>\n",
       "      <td>southeast</td>\n",
       "      <td>41949.24410</td>\n",
       "    </tr>\n",
       "    <tr>\n",
       "      <th>1117</th>\n",
       "      <td>25</td>\n",
       "      <td>male</td>\n",
       "      <td>33.330</td>\n",
       "      <td>2</td>\n",
       "      <td>yes</td>\n",
       "      <td>southeast</td>\n",
       "      <td>36124.57370</td>\n",
       "    </tr>\n",
       "    <tr>\n",
       "      <th>1118</th>\n",
       "      <td>33</td>\n",
       "      <td>male</td>\n",
       "      <td>35.750</td>\n",
       "      <td>1</td>\n",
       "      <td>yes</td>\n",
       "      <td>southeast</td>\n",
       "      <td>38282.74950</td>\n",
       "    </tr>\n",
       "    <tr>\n",
       "      <th>1122</th>\n",
       "      <td>53</td>\n",
       "      <td>female</td>\n",
       "      <td>36.860</td>\n",
       "      <td>3</td>\n",
       "      <td>yes</td>\n",
       "      <td>northwest</td>\n",
       "      <td>46661.44240</td>\n",
       "    </tr>\n",
       "    <tr>\n",
       "      <th>1124</th>\n",
       "      <td>23</td>\n",
       "      <td>female</td>\n",
       "      <td>42.750</td>\n",
       "      <td>1</td>\n",
       "      <td>yes</td>\n",
       "      <td>northeast</td>\n",
       "      <td>40904.19950</td>\n",
       "    </tr>\n",
       "    <tr>\n",
       "      <th>1139</th>\n",
       "      <td>19</td>\n",
       "      <td>female</td>\n",
       "      <td>32.490</td>\n",
       "      <td>0</td>\n",
       "      <td>yes</td>\n",
       "      <td>northwest</td>\n",
       "      <td>36898.73308</td>\n",
       "    </tr>\n",
       "    <tr>\n",
       "      <th>1146</th>\n",
       "      <td>60</td>\n",
       "      <td>male</td>\n",
       "      <td>32.800</td>\n",
       "      <td>0</td>\n",
       "      <td>yes</td>\n",
       "      <td>southwest</td>\n",
       "      <td>52590.82939</td>\n",
       "    </tr>\n",
       "    <tr>\n",
       "      <th>1152</th>\n",
       "      <td>43</td>\n",
       "      <td>female</td>\n",
       "      <td>32.560</td>\n",
       "      <td>3</td>\n",
       "      <td>yes</td>\n",
       "      <td>southeast</td>\n",
       "      <td>40941.28540</td>\n",
       "    </tr>\n",
       "    <tr>\n",
       "      <th>1156</th>\n",
       "      <td>19</td>\n",
       "      <td>male</td>\n",
       "      <td>44.880</td>\n",
       "      <td>0</td>\n",
       "      <td>yes</td>\n",
       "      <td>southeast</td>\n",
       "      <td>39722.74620</td>\n",
       "    </tr>\n",
       "    <tr>\n",
       "      <th>1186</th>\n",
       "      <td>20</td>\n",
       "      <td>male</td>\n",
       "      <td>35.625</td>\n",
       "      <td>3</td>\n",
       "      <td>yes</td>\n",
       "      <td>northwest</td>\n",
       "      <td>37465.34375</td>\n",
       "    </tr>\n",
       "    <tr>\n",
       "      <th>1206</th>\n",
       "      <td>59</td>\n",
       "      <td>female</td>\n",
       "      <td>34.800</td>\n",
       "      <td>2</td>\n",
       "      <td>no</td>\n",
       "      <td>southwest</td>\n",
       "      <td>36910.60803</td>\n",
       "    </tr>\n",
       "    <tr>\n",
       "      <th>1207</th>\n",
       "      <td>36</td>\n",
       "      <td>male</td>\n",
       "      <td>33.400</td>\n",
       "      <td>2</td>\n",
       "      <td>yes</td>\n",
       "      <td>southwest</td>\n",
       "      <td>38415.47400</td>\n",
       "    </tr>\n",
       "    <tr>\n",
       "      <th>1218</th>\n",
       "      <td>46</td>\n",
       "      <td>female</td>\n",
       "      <td>34.600</td>\n",
       "      <td>1</td>\n",
       "      <td>yes</td>\n",
       "      <td>southwest</td>\n",
       "      <td>41661.60200</td>\n",
       "    </tr>\n",
       "    <tr>\n",
       "      <th>1230</th>\n",
       "      <td>52</td>\n",
       "      <td>male</td>\n",
       "      <td>34.485</td>\n",
       "      <td>3</td>\n",
       "      <td>yes</td>\n",
       "      <td>northwest</td>\n",
       "      <td>60021.39897</td>\n",
       "    </tr>\n",
       "    <tr>\n",
       "      <th>1240</th>\n",
       "      <td>52</td>\n",
       "      <td>male</td>\n",
       "      <td>41.800</td>\n",
       "      <td>2</td>\n",
       "      <td>yes</td>\n",
       "      <td>southeast</td>\n",
       "      <td>47269.85400</td>\n",
       "    </tr>\n",
       "    <tr>\n",
       "      <th>1241</th>\n",
       "      <td>64</td>\n",
       "      <td>male</td>\n",
       "      <td>36.960</td>\n",
       "      <td>2</td>\n",
       "      <td>yes</td>\n",
       "      <td>southeast</td>\n",
       "      <td>49577.66240</td>\n",
       "    </tr>\n",
       "    <tr>\n",
       "      <th>1249</th>\n",
       "      <td>32</td>\n",
       "      <td>male</td>\n",
       "      <td>33.630</td>\n",
       "      <td>1</td>\n",
       "      <td>yes</td>\n",
       "      <td>northeast</td>\n",
       "      <td>37607.52770</td>\n",
       "    </tr>\n",
       "    <tr>\n",
       "      <th>1284</th>\n",
       "      <td>61</td>\n",
       "      <td>male</td>\n",
       "      <td>36.300</td>\n",
       "      <td>1</td>\n",
       "      <td>yes</td>\n",
       "      <td>southwest</td>\n",
       "      <td>47403.88000</td>\n",
       "    </tr>\n",
       "    <tr>\n",
       "      <th>1288</th>\n",
       "      <td>20</td>\n",
       "      <td>male</td>\n",
       "      <td>39.400</td>\n",
       "      <td>2</td>\n",
       "      <td>yes</td>\n",
       "      <td>southwest</td>\n",
       "      <td>38344.56600</td>\n",
       "    </tr>\n",
       "    <tr>\n",
       "      <th>1291</th>\n",
       "      <td>19</td>\n",
       "      <td>male</td>\n",
       "      <td>34.900</td>\n",
       "      <td>0</td>\n",
       "      <td>yes</td>\n",
       "      <td>southwest</td>\n",
       "      <td>34828.65400</td>\n",
       "    </tr>\n",
       "    <tr>\n",
       "      <th>1300</th>\n",
       "      <td>45</td>\n",
       "      <td>male</td>\n",
       "      <td>30.360</td>\n",
       "      <td>0</td>\n",
       "      <td>yes</td>\n",
       "      <td>southeast</td>\n",
       "      <td>62592.87309</td>\n",
       "    </tr>\n",
       "    <tr>\n",
       "      <th>1301</th>\n",
       "      <td>62</td>\n",
       "      <td>male</td>\n",
       "      <td>30.875</td>\n",
       "      <td>3</td>\n",
       "      <td>yes</td>\n",
       "      <td>northwest</td>\n",
       "      <td>46718.16325</td>\n",
       "    </tr>\n",
       "    <tr>\n",
       "      <th>1303</th>\n",
       "      <td>43</td>\n",
       "      <td>male</td>\n",
       "      <td>27.800</td>\n",
       "      <td>0</td>\n",
       "      <td>yes</td>\n",
       "      <td>southwest</td>\n",
       "      <td>37829.72420</td>\n",
       "    </tr>\n",
       "    <tr>\n",
       "      <th>1313</th>\n",
       "      <td>19</td>\n",
       "      <td>female</td>\n",
       "      <td>34.700</td>\n",
       "      <td>2</td>\n",
       "      <td>yes</td>\n",
       "      <td>southwest</td>\n",
       "      <td>36397.57600</td>\n",
       "    </tr>\n",
       "    <tr>\n",
       "      <th>1323</th>\n",
       "      <td>42</td>\n",
       "      <td>female</td>\n",
       "      <td>40.370</td>\n",
       "      <td>2</td>\n",
       "      <td>yes</td>\n",
       "      <td>southeast</td>\n",
       "      <td>43896.37630</td>\n",
       "    </tr>\n",
       "  </tbody>\n",
       "</table>\n",
       "<p>139 rows × 7 columns</p>\n",
       "</div>"
      ],
      "text/plain": [
       "      age  gender     bmi  children smoker     region      charges\n",
       "14     27    male  42.130         0    yes  southeast  39611.75770\n",
       "19     30    male  35.300         0    yes  southwest  36837.46700\n",
       "23     34  female  31.920         1    yes  northeast  37701.87680\n",
       "29     31    male  36.300         2    yes  southwest  38711.00000\n",
       "30     22    male  35.600         0    yes  southwest  35585.57600\n",
       "34     28    male  36.400         1    yes  southwest  51194.55914\n",
       "38     35    male  36.670         1    yes  northeast  39774.27630\n",
       "39     60    male  39.900         0    yes  southwest  48173.36100\n",
       "49     36    male  35.200         1    yes  southeast  38709.17600\n",
       "53     36    male  34.430         0    yes  southeast  37742.57570\n",
       "55     58    male  36.955         2    yes  northwest  47496.49445\n",
       "82     22    male  37.620         1    yes  southeast  37165.16380\n",
       "84     37  female  34.800         2    yes  southwest  39836.51900\n",
       "86     57  female  31.160         0    yes  northwest  43578.93940\n",
       "94     64  female  31.300         2    yes  southwest  47291.05500\n",
       "109    63    male  35.090         0    yes  southeast  47055.53210\n",
       "123    44    male  31.350         1    yes  northeast  39556.49450\n",
       "146    46    male  30.495         3    yes  northwest  40720.55105\n",
       "158    30    male  35.530         0    yes  southeast  36950.25670\n",
       "161    18  female  36.850         0    yes  southeast  36149.48350\n",
       "175    63  female  37.700         0    yes  southwest  48824.45000\n",
       "185    36    male  41.895         3    yes  northeast  43753.33705\n",
       "203    27  female  36.080         0    yes  southeast  37133.89820\n",
       "223    19    male  34.800         0    yes  southwest  34779.61500\n",
       "240    23  female  36.670         2    yes  northeast  38511.62830\n",
       "242    55  female  26.800         1     no  southwest  35160.13457\n",
       "251    63  female  32.200         2    yes  southwest  47305.30500\n",
       "252    54    male  34.210         2    yes  southeast  44260.74990\n",
       "254    50    male  31.825         0    yes  northeast  41097.16175\n",
       "256    56    male  33.630         0    yes  northwest  43921.18370\n",
       "...   ...     ...     ...       ...    ...        ...          ...\n",
       "1062   59    male  41.140         1    yes  southeast  48970.24760\n",
       "1070   37    male  37.070         1    yes  southeast  39871.70430\n",
       "1078   28    male  31.680         0    yes  southeast  34672.14720\n",
       "1090   47    male  36.190         0    yes  southeast  41676.08110\n",
       "1096   51  female  34.960         2    yes  northeast  44641.19740\n",
       "1111   38    male  38.390         3    yes  southeast  41949.24410\n",
       "1117   25    male  33.330         2    yes  southeast  36124.57370\n",
       "1118   33    male  35.750         1    yes  southeast  38282.74950\n",
       "1122   53  female  36.860         3    yes  northwest  46661.44240\n",
       "1124   23  female  42.750         1    yes  northeast  40904.19950\n",
       "1139   19  female  32.490         0    yes  northwest  36898.73308\n",
       "1146   60    male  32.800         0    yes  southwest  52590.82939\n",
       "1152   43  female  32.560         3    yes  southeast  40941.28540\n",
       "1156   19    male  44.880         0    yes  southeast  39722.74620\n",
       "1186   20    male  35.625         3    yes  northwest  37465.34375\n",
       "1206   59  female  34.800         2     no  southwest  36910.60803\n",
       "1207   36    male  33.400         2    yes  southwest  38415.47400\n",
       "1218   46  female  34.600         1    yes  southwest  41661.60200\n",
       "1230   52    male  34.485         3    yes  northwest  60021.39897\n",
       "1240   52    male  41.800         2    yes  southeast  47269.85400\n",
       "1241   64    male  36.960         2    yes  southeast  49577.66240\n",
       "1249   32    male  33.630         1    yes  northeast  37607.52770\n",
       "1284   61    male  36.300         1    yes  southwest  47403.88000\n",
       "1288   20    male  39.400         2    yes  southwest  38344.56600\n",
       "1291   19    male  34.900         0    yes  southwest  34828.65400\n",
       "1300   45    male  30.360         0    yes  southeast  62592.87309\n",
       "1301   62    male  30.875         3    yes  northwest  46718.16325\n",
       "1303   43    male  27.800         0    yes  southwest  37829.72420\n",
       "1313   19  female  34.700         2    yes  southwest  36397.57600\n",
       "1323   42  female  40.370         2    yes  southeast  43896.37630\n",
       "\n",
       "[139 rows x 7 columns]"
      ]
     },
     "execution_count": 23,
     "metadata": {},
     "output_type": "execute_result"
    }
   ],
   "source": [
    "df[find_outliers(df.charges)]"
   ]
  },
  {
   "cell_type": "code",
   "execution_count": 24,
   "metadata": {},
   "outputs": [
    {
     "data": {
      "text/plain": [
       "<matplotlib.axes._subplots.AxesSubplot at 0x11c1dd550>"
      ]
     },
     "execution_count": 24,
     "metadata": {},
     "output_type": "execute_result"
    },
    {
     "data": {
      "image/png": "[encoded data removed]",
      "text/plain": [
       "<Figure size 432x288 with 1 Axes>"
      ]
     },
     "metadata": {
      "needs_background": "light"
     },
     "output_type": "display_data"
    }
   ],
   "source": [
    "np.log(df.charges).plot.box()"
   ]
  },
  {
   "cell_type": "code",
   "execution_count": 25,
   "metadata": {},
   "outputs": [
    {
     "name": "stdout",
     "output_type": "stream",
     "text": [
      "Boundaries (7.02275569117477, 11.063044851063491)\n"
     ]
    },
    {
     "data": {
      "text/html": [
       "<div>\n",
       "<style scoped>\n",
       "    .dataframe tbody tr th:only-of-type {\n",
       "        vertical-align: middle;\n",
       "    }\n",
       "\n",
       "    .dataframe tbody tr th {\n",
       "        vertical-align: top;\n",
       "    }\n",
       "\n",
       "    .dataframe thead th {\n",
       "        text-align: right;\n",
       "    }\n",
       "</style>\n",
       "<table border=\"1\" class=\"dataframe\">\n",
       "  <thead>\n",
       "    <tr style=\"text-align: right;\">\n",
       "      <th></th>\n",
       "      <th>age</th>\n",
       "      <th>gender</th>\n",
       "      <th>bmi</th>\n",
       "      <th>children</th>\n",
       "      <th>smoker</th>\n",
       "      <th>region</th>\n",
       "      <th>charges</th>\n",
       "    </tr>\n",
       "  </thead>\n",
       "  <tbody>\n",
       "  </tbody>\n",
       "</table>\n",
       "</div>"
      ],
      "text/plain": [
       "Empty DataFrame\n",
       "Columns: [age, gender, bmi, children, smoker, region, charges]\n",
       "Index: []"
      ]
     },
     "execution_count": 25,
     "metadata": {},
     "output_type": "execute_result"
    }
   ],
   "source": [
    "df[find_outliers(np.log(df.charges))]"
   ]
  },
  {
   "cell_type": "code",
   "execution_count": 26,
   "metadata": {},
   "outputs": [
    {
     "data": {
      "text/plain": [
       "(2.1645384505688052, 2.0126758453675744)"
      ]
     },
     "execution_count": 26,
     "metadata": {},
     "output_type": "execute_result"
    }
   ],
   "source": [
    "a = np.array([13, 20, 5, 6, 7, 8])\n",
    "np.mean(np.log(a)), np.median(np.log(a))"
   ]
  },
  {
   "cell_type": "code",
   "execution_count": 27,
   "metadata": {},
   "outputs": [
    {
     "data": {
      "text/plain": [
       "(2.513200127057275, 2.0794415416798357)"
      ]
     },
     "execution_count": 27,
     "metadata": {},
     "output_type": "execute_result"
    }
   ],
   "source": [
    "a = np.array([13, 20, 5, 6, 7, 8, 100])\n",
    "np.mean(np.log(a)), np.median(np.log(a))"
   ]
  },
  {
   "cell_type": "code",
   "execution_count": 31,
   "metadata": {},
   "outputs": [
    {
     "data": {
      "text/plain": [
       "<matplotlib.axes._subplots.AxesSubplot at 0x11c1e0a90>"
      ]
     },
     "execution_count": 31,
     "metadata": {},
     "output_type": "execute_result"
    },
    {
     "data": {
      "image/png": "[encoded data removed]",
      "text/plain": [
       "<Figure size 432x288 with 1 Axes>"
      ]
     },
     "metadata": {
      "needs_background": "light"
     },
     "output_type": "display_data"
    }
   ],
   "source": [
    "df.gender.value_counts().sort_values(ascending = False).plot.bar()"
   ]
  },
  {
   "cell_type": "code",
   "execution_count": 32,
   "metadata": {},
   "outputs": [
    {
     "data": {
      "text/plain": [
       "<matplotlib.axes._subplots.AxesSubplot at 0x11c233400>"
      ]
     },
     "execution_count": 32,
     "metadata": {},
     "output_type": "execute_result"
    },
    {
     "data": {
      "image/png": "[encoded data removed]",
      "text/plain": [
       "<Figure size 432x288 with 1 Axes>"
      ]
     },
     "metadata": {
      "needs_background": "light"
     },
     "output_type": "display_data"
    }
   ],
   "source": [
    "df.region.value_counts().sort_values(ascending = False).plot.bar()"
   ]
  },
  {
   "cell_type": "code",
   "execution_count": 33,
   "metadata": {},
   "outputs": [
    {
     "data": {
      "text/plain": [
       "<matplotlib.axes._subplots.AxesSubplot at 0x11d69f240>"
      ]
     },
     "execution_count": 33,
     "metadata": {},
     "output_type": "execute_result"
    },
    {
     "data": {
      "image/png": "[encoded data removed]",
      "text/plain": [
       "<Figure size 432x288 with 1 Axes>"
      ]
     },
     "metadata": {},
     "output_type": "display_data"
    }
   ],
   "source": [
    "df.region.value_counts().sort_values(ascending = False).plot.pie()"
   ]
  },
  {
   "cell_type": "code",
   "execution_count": 37,
   "metadata": {},
   "outputs": [
    {
     "data": {
      "text/plain": [
       "<matplotlib.axes._subplots.AxesSubplot at 0x11e6124a8>"
      ]
     },
     "execution_count": 37,
     "metadata": {},
     "output_type": "execute_result"
    },
    {
     "data": {
      "image/png": "[encoded data removed]",
      "text/plain": [
       "<Figure size 432x288 with 1 Axes>"
      ]
     },
     "metadata": {
      "needs_background": "light"
     },
     "output_type": "display_data"
    }
   ],
   "source": [
    "colors = np.where(df.smoker == \"yes\", \"red\", \"blue\")\n",
    "df.plot.scatter(\"age\", \"charges\", color = colors)"
   ]
  },
  {
   "cell_type": "code",
   "execution_count": 40,
   "metadata": {},
   "outputs": [
    {
     "data": {
      "text/plain": [
       "<matplotlib.axes._subplots.AxesSubplot at 0x11d877da0>"
      ]
     },
     "execution_count": 40,
     "metadata": {},
     "output_type": "execute_result"
    },
    {
     "data": {
      "image/png": "[encoded data removed]",
      "text/plain": [
       "<Figure size 432x288 with 1 Axes>"
      ]
     },
     "metadata": {
      "needs_background": "light"
     },
     "output_type": "display_data"
    }
   ],
   "source": [
    "df.groupby(\"region\").charges.median().sort_values(ascending = False).plot.bar()"
   ]
  },
  {
   "cell_type": "code",
   "execution_count": 42,
   "metadata": {},
   "outputs": [
    {
     "data": {
      "text/html": [
       "<div>\n",
       "<style scoped>\n",
       "    .dataframe tbody tr th:only-of-type {\n",
       "        vertical-align: middle;\n",
       "    }\n",
       "\n",
       "    .dataframe tbody tr th {\n",
       "        vertical-align: top;\n",
       "    }\n",
       "\n",
       "    .dataframe thead th {\n",
       "        text-align: right;\n",
       "    }\n",
       "</style>\n",
       "<table border=\"1\" class=\"dataframe\">\n",
       "  <thead>\n",
       "    <tr style=\"text-align: right;\">\n",
       "      <th></th>\n",
       "      <th>0</th>\n",
       "      <th>1</th>\n",
       "    </tr>\n",
       "  </thead>\n",
       "  <tbody>\n",
       "    <tr>\n",
       "      <th>0</th>\n",
       "      <td>2017-07-30 00:00:00</td>\n",
       "      <td>2745.955417</td>\n",
       "    </tr>\n",
       "    <tr>\n",
       "      <th>1</th>\n",
       "      <td>2017-07-31 00:00:00</td>\n",
       "      <td>2866.431667</td>\n",
       "    </tr>\n",
       "    <tr>\n",
       "      <th>2</th>\n",
       "      <td>2017-08-01 00:00:00</td>\n",
       "      <td>2710.413067</td>\n",
       "    </tr>\n",
       "    <tr>\n",
       "      <th>3</th>\n",
       "      <td>2017-08-02 00:00:00</td>\n",
       "      <td>2693.633983</td>\n",
       "    </tr>\n",
       "    <tr>\n",
       "      <th>4</th>\n",
       "      <td>2017-08-03 00:00:00</td>\n",
       "      <td>2794.117717</td>\n",
       "    </tr>\n",
       "  </tbody>\n",
       "</table>\n",
       "</div>"
      ],
      "text/plain": [
       "                     0            1\n",
       "0  2017-07-30 00:00:00  2745.955417\n",
       "1  2017-07-31 00:00:00  2866.431667\n",
       "2  2017-08-01 00:00:00  2710.413067\n",
       "3  2017-08-02 00:00:00  2693.633983\n",
       "4  2017-08-03 00:00:00  2794.117717"
      ]
     },
     "execution_count": 42,
     "metadata": {},
     "output_type": "execute_result"
    }
   ],
   "source": [
    "df = pd.read_csv(\"/data/bitcoin.csv\", header = None)\n",
    "df.head()"
   ]
  },
  {
   "cell_type": "code",
   "execution_count": 44,
   "metadata": {},
   "outputs": [],
   "source": [
    "df.index = pd.to_datetime(df[0])"
   ]
  },
  {
   "cell_type": "code",
   "execution_count": null,
   "metadata": {},
   "outputs": [],
   "source": []
  },
  {
   "cell_type": "code",
   "execution_count": 49,
   "metadata": {},
   "outputs": [
    {
     "data": {
      "image/png": "[encoded data removed]",
      "text/plain": [
       "<Figure size 576x288 with 1 Axes>"
      ]
     },
     "metadata": {
      "needs_background": "light"
     },
     "output_type": "display_data"
    }
   ],
   "source": [
    "plt.figure(figsize = (8, 4))\n",
    "df[1].plot()\n",
    "plt.savefig(\"bitcoin.jpg\")\n",
    "plt.savefig(\"bitcoin.pdf\")"
   ]
  },
  {
   "cell_type": "code",
   "execution_count": 54,
   "metadata": {
    "scrolled": false
   },
   "outputs": [],
   "source": [
    "bitcoin = pd.read_html(\"/Users/abasar/Downloads/a.html\")[0]"
   ]
  },
  {
   "cell_type": "code",
   "execution_count": 57,
   "metadata": {},
   "outputs": [],
   "source": [
    "bitcoin.index = pd.to_datetime(bitcoin.Date)"
   ]
  },
  {
   "cell_type": "code",
   "execution_count": 61,
   "metadata": {},
   "outputs": [],
   "source": [
    "bitcoin.columns = \"Date,Open,High,Low,Close,Volume,Market Cap\".lower().split(\",\")"
   ]
  },
  {
   "cell_type": "code",
   "execution_count": 62,
   "metadata": {},
   "outputs": [
    {
     "data": {
      "text/html": [
       "<div>\n",
       "<style scoped>\n",
       "    .dataframe tbody tr th:only-of-type {\n",
       "        vertical-align: middle;\n",
       "    }\n",
       "\n",
       "    .dataframe tbody tr th {\n",
       "        vertical-align: top;\n",
       "    }\n",
       "\n",
       "    .dataframe thead th {\n",
       "        text-align: right;\n",
       "    }\n",
       "</style>\n",
       "<table border=\"1\" class=\"dataframe\">\n",
       "  <thead>\n",
       "    <tr style=\"text-align: right;\">\n",
       "      <th></th>\n",
       "      <th>date</th>\n",
       "      <th>open</th>\n",
       "      <th>high</th>\n",
       "      <th>low</th>\n",
       "      <th>close</th>\n",
       "      <th>volume</th>\n",
       "      <th>market cap</th>\n",
       "    </tr>\n",
       "    <tr>\n",
       "      <th>Date</th>\n",
       "      <th></th>\n",
       "      <th></th>\n",
       "      <th></th>\n",
       "      <th></th>\n",
       "      <th></th>\n",
       "      <th></th>\n",
       "      <th></th>\n",
       "    </tr>\n",
       "  </thead>\n",
       "  <tbody>\n",
       "    <tr>\n",
       "      <th>2019-02-17</th>\n",
       "      <td>Feb 17, 2019</td>\n",
       "      <td>3633.36</td>\n",
       "      <td>3680.54</td>\n",
       "      <td>3619.18</td>\n",
       "      <td>3673.84</td>\n",
       "      <td>7039512503</td>\n",
       "      <td>64453368779</td>\n",
       "    </tr>\n",
       "    <tr>\n",
       "      <th>2019-02-16</th>\n",
       "      <td>Feb 16, 2019</td>\n",
       "      <td>3615.27</td>\n",
       "      <td>3652.84</td>\n",
       "      <td>3615.27</td>\n",
       "      <td>3629.79</td>\n",
       "      <td>5934744052</td>\n",
       "      <td>63673369195</td>\n",
       "    </tr>\n",
       "    <tr>\n",
       "      <th>2019-02-15</th>\n",
       "      <td>Feb 15, 2019</td>\n",
       "      <td>3617.37</td>\n",
       "      <td>3647.80</td>\n",
       "      <td>3608.21</td>\n",
       "      <td>3620.81</td>\n",
       "      <td>6091952231</td>\n",
       "      <td>63509111125</td>\n",
       "    </tr>\n",
       "    <tr>\n",
       "      <th>2019-02-14</th>\n",
       "      <td>Feb 14, 2019</td>\n",
       "      <td>3631.17</td>\n",
       "      <td>3646.26</td>\n",
       "      <td>3607.70</td>\n",
       "      <td>3616.88</td>\n",
       "      <td>6271044418</td>\n",
       "      <td>63434486052</td>\n",
       "    </tr>\n",
       "    <tr>\n",
       "      <th>2019-02-13</th>\n",
       "      <td>Feb 13, 2019</td>\n",
       "      <td>3653.60</td>\n",
       "      <td>3669.75</td>\n",
       "      <td>3617.25</td>\n",
       "      <td>3632.07</td>\n",
       "      <td>6438903823</td>\n",
       "      <td>63694394519</td>\n",
       "    </tr>\n",
       "    <tr>\n",
       "      <th>2019-02-12</th>\n",
       "      <td>Feb 12, 2019</td>\n",
       "      <td>3642.75</td>\n",
       "      <td>3668.59</td>\n",
       "      <td>3618.56</td>\n",
       "      <td>3653.53</td>\n",
       "      <td>6480384532</td>\n",
       "      <td>64063755250</td>\n",
       "    </tr>\n",
       "    <tr>\n",
       "      <th>2019-02-11</th>\n",
       "      <td>Feb 11, 2019</td>\n",
       "      <td>3695.61</td>\n",
       "      <td>3695.61</td>\n",
       "      <td>3642.29</td>\n",
       "      <td>3648.43</td>\n",
       "      <td>6277056434</td>\n",
       "      <td>63968390250</td>\n",
       "    </tr>\n",
       "    <tr>\n",
       "      <th>2019-02-10</th>\n",
       "      <td>Feb 10, 2019</td>\n",
       "      <td>3673.20</td>\n",
       "      <td>3695.04</td>\n",
       "      <td>3640.98</td>\n",
       "      <td>3690.19</td>\n",
       "      <td>6282256903</td>\n",
       "      <td>64694025951</td>\n",
       "    </tr>\n",
       "    <tr>\n",
       "      <th>2019-02-09</th>\n",
       "      <td>Feb 09, 2019</td>\n",
       "      <td>3671.59</td>\n",
       "      <td>3679.94</td>\n",
       "      <td>3646.56</td>\n",
       "      <td>3671.20</td>\n",
       "      <td>6158833645</td>\n",
       "      <td>64354732475</td>\n",
       "    </tr>\n",
       "    <tr>\n",
       "      <th>2019-02-08</th>\n",
       "      <td>Feb 08, 2019</td>\n",
       "      <td>3401.38</td>\n",
       "      <td>3695.61</td>\n",
       "      <td>3391.02</td>\n",
       "      <td>3666.78</td>\n",
       "      <td>7735623101</td>\n",
       "      <td>64270269953</td>\n",
       "    </tr>\n",
       "    <tr>\n",
       "      <th>2019-02-07</th>\n",
       "      <td>Feb 07, 2019</td>\n",
       "      <td>3414.93</td>\n",
       "      <td>3427.95</td>\n",
       "      <td>3394.22</td>\n",
       "      <td>3399.47</td>\n",
       "      <td>5004962683</td>\n",
       "      <td>59578075991</td>\n",
       "    </tr>\n",
       "    <tr>\n",
       "      <th>2019-02-06</th>\n",
       "      <td>Feb 06, 2019</td>\n",
       "      <td>3469.09</td>\n",
       "      <td>3469.09</td>\n",
       "      <td>3398.57</td>\n",
       "      <td>3413.77</td>\n",
       "      <td>5482196038</td>\n",
       "      <td>59821158612</td>\n",
       "    </tr>\n",
       "    <tr>\n",
       "      <th>2019-02-05</th>\n",
       "      <td>Feb 05, 2019</td>\n",
       "      <td>3454.95</td>\n",
       "      <td>3478.15</td>\n",
       "      <td>3451.94</td>\n",
       "      <td>3466.36</td>\n",
       "      <td>5227549545</td>\n",
       "      <td>60735563490</td>\n",
       "    </tr>\n",
       "    <tr>\n",
       "      <th>2019-02-04</th>\n",
       "      <td>Feb 04, 2019</td>\n",
       "      <td>3467.21</td>\n",
       "      <td>3476.22</td>\n",
       "      <td>3442.59</td>\n",
       "      <td>3459.15</td>\n",
       "      <td>5332718886</td>\n",
       "      <td>60603083461</td>\n",
       "    </tr>\n",
       "    <tr>\n",
       "      <th>2019-02-03</th>\n",
       "      <td>Feb 03, 2019</td>\n",
       "      <td>3516.14</td>\n",
       "      <td>3521.39</td>\n",
       "      <td>3447.92</td>\n",
       "      <td>3464.01</td>\n",
       "      <td>5043937584</td>\n",
       "      <td>60681847608</td>\n",
       "    </tr>\n",
       "    <tr>\n",
       "      <th>2019-02-02</th>\n",
       "      <td>Feb 02, 2019</td>\n",
       "      <td>3484.63</td>\n",
       "      <td>3523.29</td>\n",
       "      <td>3467.57</td>\n",
       "      <td>3521.06</td>\n",
       "      <td>5071623601</td>\n",
       "      <td>61675119055</td>\n",
       "    </tr>\n",
       "    <tr>\n",
       "      <th>2019-02-01</th>\n",
       "      <td>Feb 01, 2019</td>\n",
       "      <td>3460.55</td>\n",
       "      <td>3501.95</td>\n",
       "      <td>3431.59</td>\n",
       "      <td>3487.95</td>\n",
       "      <td>5422926707</td>\n",
       "      <td>61088747491</td>\n",
       "    </tr>\n",
       "    <tr>\n",
       "      <th>2019-01-31</th>\n",
       "      <td>Jan 31, 2019</td>\n",
       "      <td>3485.41</td>\n",
       "      <td>3504.80</td>\n",
       "      <td>3447.92</td>\n",
       "      <td>3457.79</td>\n",
       "      <td>5831198271</td>\n",
       "      <td>60553903928</td>\n",
       "    </tr>\n",
       "    <tr>\n",
       "      <th>2019-01-30</th>\n",
       "      <td>Jan 30, 2019</td>\n",
       "      <td>3443.90</td>\n",
       "      <td>3495.17</td>\n",
       "      <td>3429.39</td>\n",
       "      <td>3486.18</td>\n",
       "      <td>5955112627</td>\n",
       "      <td>61044262622</td>\n",
       "    </tr>\n",
       "    <tr>\n",
       "      <th>2019-01-29</th>\n",
       "      <td>Jan 29, 2019</td>\n",
       "      <td>3468.87</td>\n",
       "      <td>3476.07</td>\n",
       "      <td>3400.82</td>\n",
       "      <td>3448.12</td>\n",
       "      <td>5897159493</td>\n",
       "      <td>60371874099</td>\n",
       "    </tr>\n",
       "    <tr>\n",
       "      <th>2019-01-28</th>\n",
       "      <td>Jan 28, 2019</td>\n",
       "      <td>3584.28</td>\n",
       "      <td>3586.75</td>\n",
       "      <td>3439.23</td>\n",
       "      <td>3470.45</td>\n",
       "      <td>6908930483</td>\n",
       "      <td>60756570314</td>\n",
       "    </tr>\n",
       "    <tr>\n",
       "      <th>2019-01-27</th>\n",
       "      <td>Jan 27, 2019</td>\n",
       "      <td>3604.69</td>\n",
       "      <td>3612.67</td>\n",
       "      <td>3567.25</td>\n",
       "      <td>3583.97</td>\n",
       "      <td>5570752966</td>\n",
       "      <td>62737274093</td>\n",
       "    </tr>\n",
       "    <tr>\n",
       "      <th>2019-01-26</th>\n",
       "      <td>Jan 26, 2019</td>\n",
       "      <td>3599.72</td>\n",
       "      <td>3654.93</td>\n",
       "      <td>3593.35</td>\n",
       "      <td>3602.46</td>\n",
       "      <td>5098183235</td>\n",
       "      <td>63054898963</td>\n",
       "    </tr>\n",
       "    <tr>\n",
       "      <th>2019-01-25</th>\n",
       "      <td>Jan 25, 2019</td>\n",
       "      <td>3607.39</td>\n",
       "      <td>3612.93</td>\n",
       "      <td>3575.60</td>\n",
       "      <td>3599.77</td>\n",
       "      <td>5265847539</td>\n",
       "      <td>63000985908</td>\n",
       "    </tr>\n",
       "    <tr>\n",
       "      <th>2019-01-24</th>\n",
       "      <td>Jan 24, 2019</td>\n",
       "      <td>3584.50</td>\n",
       "      <td>3616.09</td>\n",
       "      <td>3569.09</td>\n",
       "      <td>3600.87</td>\n",
       "      <td>5262869046</td>\n",
       "      <td>63014066012</td>\n",
       "    </tr>\n",
       "    <tr>\n",
       "      <th>2019-01-23</th>\n",
       "      <td>Jan 23, 2019</td>\n",
       "      <td>3605.56</td>\n",
       "      <td>3623.07</td>\n",
       "      <td>3565.31</td>\n",
       "      <td>3585.12</td>\n",
       "      <td>5433755649</td>\n",
       "      <td>62731361272</td>\n",
       "    </tr>\n",
       "    <tr>\n",
       "      <th>2019-01-22</th>\n",
       "      <td>Jan 22, 2019</td>\n",
       "      <td>3575.08</td>\n",
       "      <td>3620.75</td>\n",
       "      <td>3539.72</td>\n",
       "      <td>3604.58</td>\n",
       "      <td>5313623556</td>\n",
       "      <td>63065139424</td>\n",
       "    </tr>\n",
       "    <tr>\n",
       "      <th>2019-01-21</th>\n",
       "      <td>Jan 21, 2019</td>\n",
       "      <td>3600.37</td>\n",
       "      <td>3608.84</td>\n",
       "      <td>3558.54</td>\n",
       "      <td>3576.03</td>\n",
       "      <td>5004347059</td>\n",
       "      <td>62559869612</td>\n",
       "    </tr>\n",
       "    <tr>\n",
       "      <th>2019-01-20</th>\n",
       "      <td>Jan 20, 2019</td>\n",
       "      <td>3725.45</td>\n",
       "      <td>3743.39</td>\n",
       "      <td>3583.02</td>\n",
       "      <td>3601.01</td>\n",
       "      <td>5582489560</td>\n",
       "      <td>62990143284</td>\n",
       "    </tr>\n",
       "    <tr>\n",
       "      <th>2019-01-19</th>\n",
       "      <td>Jan 19, 2019</td>\n",
       "      <td>3652.38</td>\n",
       "      <td>3758.53</td>\n",
       "      <td>3652.38</td>\n",
       "      <td>3728.57</td>\n",
       "      <td>5955691380</td>\n",
       "      <td>65214103659</td>\n",
       "    </tr>\n",
       "    <tr>\n",
       "      <th>...</th>\n",
       "      <td>...</td>\n",
       "      <td>...</td>\n",
       "      <td>...</td>\n",
       "      <td>...</td>\n",
       "      <td>...</td>\n",
       "      <td>...</td>\n",
       "      <td>...</td>\n",
       "    </tr>\n",
       "    <tr>\n",
       "      <th>2018-01-30</th>\n",
       "      <td>Jan 30, 2018</td>\n",
       "      <td>11306.80</td>\n",
       "      <td>11307.20</td>\n",
       "      <td>10036.20</td>\n",
       "      <td>10106.30</td>\n",
       "      <td>8637859840</td>\n",
       "      <td>170151556678</td>\n",
       "    </tr>\n",
       "    <tr>\n",
       "      <th>2018-01-29</th>\n",
       "      <td>Jan 29, 2018</td>\n",
       "      <td>11755.50</td>\n",
       "      <td>11875.60</td>\n",
       "      <td>11179.20</td>\n",
       "      <td>11296.40</td>\n",
       "      <td>7107359744</td>\n",
       "      <td>190164444830</td>\n",
       "    </tr>\n",
       "    <tr>\n",
       "      <th>2018-01-28</th>\n",
       "      <td>Jan 28, 2018</td>\n",
       "      <td>11475.30</td>\n",
       "      <td>12040.30</td>\n",
       "      <td>11475.30</td>\n",
       "      <td>11786.30</td>\n",
       "      <td>8350360064</td>\n",
       "      <td>198389948175</td>\n",
       "    </tr>\n",
       "    <tr>\n",
       "      <th>2018-01-27</th>\n",
       "      <td>Jan 27, 2018</td>\n",
       "      <td>11174.90</td>\n",
       "      <td>11614.90</td>\n",
       "      <td>10989.20</td>\n",
       "      <td>11440.70</td>\n",
       "      <td>7583269888</td>\n",
       "      <td>192550550498</td>\n",
       "    </tr>\n",
       "    <tr>\n",
       "      <th>2018-01-26</th>\n",
       "      <td>Jan 26, 2018</td>\n",
       "      <td>11256.00</td>\n",
       "      <td>11656.70</td>\n",
       "      <td>10470.30</td>\n",
       "      <td>11171.40</td>\n",
       "      <td>9746199552</td>\n",
       "      <td>187995804677</td>\n",
       "    </tr>\n",
       "    <tr>\n",
       "      <th>2018-01-25</th>\n",
       "      <td>Jan 25, 2018</td>\n",
       "      <td>11421.70</td>\n",
       "      <td>11785.70</td>\n",
       "      <td>11057.40</td>\n",
       "      <td>11259.40</td>\n",
       "      <td>8873169920</td>\n",
       "      <td>189455303273</td>\n",
       "    </tr>\n",
       "    <tr>\n",
       "      <th>2018-01-24</th>\n",
       "      <td>Jan 24, 2018</td>\n",
       "      <td>10903.40</td>\n",
       "      <td>11501.40</td>\n",
       "      <td>10639.80</td>\n",
       "      <td>11359.40</td>\n",
       "      <td>9940989952</td>\n",
       "      <td>191115225673</td>\n",
       "    </tr>\n",
       "    <tr>\n",
       "      <th>2018-01-23</th>\n",
       "      <td>Jan 23, 2018</td>\n",
       "      <td>10944.50</td>\n",
       "      <td>11377.60</td>\n",
       "      <td>10129.70</td>\n",
       "      <td>10868.40</td>\n",
       "      <td>9660609536</td>\n",
       "      <td>182830257191</td>\n",
       "    </tr>\n",
       "    <tr>\n",
       "      <th>2018-01-22</th>\n",
       "      <td>Jan 22, 2018</td>\n",
       "      <td>11633.10</td>\n",
       "      <td>11966.40</td>\n",
       "      <td>10240.20</td>\n",
       "      <td>10931.40</td>\n",
       "      <td>10537400320</td>\n",
       "      <td>183866421285</td>\n",
       "    </tr>\n",
       "    <tr>\n",
       "      <th>2018-01-21</th>\n",
       "      <td>Jan 21, 2018</td>\n",
       "      <td>12889.20</td>\n",
       "      <td>12895.90</td>\n",
       "      <td>11288.20</td>\n",
       "      <td>11600.10</td>\n",
       "      <td>9935179776</td>\n",
       "      <td>195089460991</td>\n",
       "    </tr>\n",
       "    <tr>\n",
       "      <th>2018-01-20</th>\n",
       "      <td>Jan 20, 2018</td>\n",
       "      <td>11656.20</td>\n",
       "      <td>13103.00</td>\n",
       "      <td>11656.20</td>\n",
       "      <td>12899.20</td>\n",
       "      <td>11801700352</td>\n",
       "      <td>216907619830</td>\n",
       "    </tr>\n",
       "    <tr>\n",
       "      <th>2018-01-19</th>\n",
       "      <td>Jan 19, 2018</td>\n",
       "      <td>11429.80</td>\n",
       "      <td>11992.80</td>\n",
       "      <td>11172.10</td>\n",
       "      <td>11607.40</td>\n",
       "      <td>10740400128</td>\n",
       "      <td>195158837709</td>\n",
       "    </tr>\n",
       "    <tr>\n",
       "      <th>2018-01-18</th>\n",
       "      <td>Jan 18, 2018</td>\n",
       "      <td>11198.80</td>\n",
       "      <td>12107.30</td>\n",
       "      <td>10942.50</td>\n",
       "      <td>11474.90</td>\n",
       "      <td>15020399616</td>\n",
       "      <td>192907550324</td>\n",
       "    </tr>\n",
       "    <tr>\n",
       "      <th>2018-01-17</th>\n",
       "      <td>Jan 17, 2018</td>\n",
       "      <td>11431.10</td>\n",
       "      <td>11678.00</td>\n",
       "      <td>9402.29</td>\n",
       "      <td>11188.60</td>\n",
       "      <td>18830600192</td>\n",
       "      <td>188070430523</td>\n",
       "    </tr>\n",
       "    <tr>\n",
       "      <th>2018-01-16</th>\n",
       "      <td>Jan 16, 2018</td>\n",
       "      <td>13836.10</td>\n",
       "      <td>13843.10</td>\n",
       "      <td>10194.90</td>\n",
       "      <td>11490.50</td>\n",
       "      <td>18853799936</td>\n",
       "      <td>193121120762</td>\n",
       "    </tr>\n",
       "    <tr>\n",
       "      <th>2018-01-15</th>\n",
       "      <td>Jan 15, 2018</td>\n",
       "      <td>13767.30</td>\n",
       "      <td>14445.50</td>\n",
       "      <td>13641.70</td>\n",
       "      <td>13819.80</td>\n",
       "      <td>12750799872</td>\n",
       "      <td>232242775485</td>\n",
       "    </tr>\n",
       "    <tr>\n",
       "      <th>2018-01-14</th>\n",
       "      <td>Jan 14, 2018</td>\n",
       "      <td>14370.80</td>\n",
       "      <td>14511.80</td>\n",
       "      <td>13268.00</td>\n",
       "      <td>13772.00</td>\n",
       "      <td>11084099584</td>\n",
       "      <td>231413491364</td>\n",
       "    </tr>\n",
       "    <tr>\n",
       "      <th>2018-01-13</th>\n",
       "      <td>Jan 13, 2018</td>\n",
       "      <td>13952.40</td>\n",
       "      <td>14659.50</td>\n",
       "      <td>13952.40</td>\n",
       "      <td>14360.20</td>\n",
       "      <td>12763599872</td>\n",
       "      <td>241268592240</td>\n",
       "    </tr>\n",
       "    <tr>\n",
       "      <th>2018-01-12</th>\n",
       "      <td>Jan 12, 2018</td>\n",
       "      <td>13453.90</td>\n",
       "      <td>14229.90</td>\n",
       "      <td>13158.10</td>\n",
       "      <td>13980.60</td>\n",
       "      <td>12065699840</td>\n",
       "      <td>234865160377</td>\n",
       "    </tr>\n",
       "    <tr>\n",
       "      <th>2018-01-11</th>\n",
       "      <td>Jan 11, 2018</td>\n",
       "      <td>14968.20</td>\n",
       "      <td>15018.80</td>\n",
       "      <td>13105.90</td>\n",
       "      <td>13405.80</td>\n",
       "      <td>16534099968</td>\n",
       "      <td>225178724050</td>\n",
       "    </tr>\n",
       "    <tr>\n",
       "      <th>2018-01-10</th>\n",
       "      <td>Jan 10, 2018</td>\n",
       "      <td>14588.50</td>\n",
       "      <td>14973.30</td>\n",
       "      <td>13691.20</td>\n",
       "      <td>14973.30</td>\n",
       "      <td>18500800512</td>\n",
       "      <td>251472635522</td>\n",
       "    </tr>\n",
       "    <tr>\n",
       "      <th>2018-01-09</th>\n",
       "      <td>Jan 09, 2018</td>\n",
       "      <td>15123.70</td>\n",
       "      <td>15497.50</td>\n",
       "      <td>14424.00</td>\n",
       "      <td>14595.40</td>\n",
       "      <td>16659999744</td>\n",
       "      <td>245095808695</td>\n",
       "    </tr>\n",
       "    <tr>\n",
       "      <th>2018-01-08</th>\n",
       "      <td>Jan 08, 2018</td>\n",
       "      <td>16476.20</td>\n",
       "      <td>16537.90</td>\n",
       "      <td>14208.20</td>\n",
       "      <td>15170.10</td>\n",
       "      <td>18413899776</td>\n",
       "      <td>254715263101</td>\n",
       "    </tr>\n",
       "    <tr>\n",
       "      <th>2018-01-07</th>\n",
       "      <td>Jan 07, 2018</td>\n",
       "      <td>17527.30</td>\n",
       "      <td>17579.60</td>\n",
       "      <td>16087.70</td>\n",
       "      <td>16477.60</td>\n",
       "      <td>15866000384</td>\n",
       "      <td>276634797271</td>\n",
       "    </tr>\n",
       "    <tr>\n",
       "      <th>2018-01-06</th>\n",
       "      <td>Jan 06, 2018</td>\n",
       "      <td>17462.10</td>\n",
       "      <td>17712.40</td>\n",
       "      <td>16764.60</td>\n",
       "      <td>17527.00</td>\n",
       "      <td>18314600448</td>\n",
       "      <td>294217423675</td>\n",
       "    </tr>\n",
       "    <tr>\n",
       "      <th>2018-01-05</th>\n",
       "      <td>Jan 05, 2018</td>\n",
       "      <td>15477.20</td>\n",
       "      <td>17705.20</td>\n",
       "      <td>15202.80</td>\n",
       "      <td>17429.50</td>\n",
       "      <td>23840899072</td>\n",
       "      <td>292544135538</td>\n",
       "    </tr>\n",
       "    <tr>\n",
       "      <th>2018-01-04</th>\n",
       "      <td>Jan 04, 2018</td>\n",
       "      <td>15270.70</td>\n",
       "      <td>15739.70</td>\n",
       "      <td>14522.20</td>\n",
       "      <td>15599.20</td>\n",
       "      <td>21783199744</td>\n",
       "      <td>261795321110</td>\n",
       "    </tr>\n",
       "    <tr>\n",
       "      <th>2018-01-03</th>\n",
       "      <td>Jan 03, 2018</td>\n",
       "      <td>14978.20</td>\n",
       "      <td>15572.80</td>\n",
       "      <td>14844.50</td>\n",
       "      <td>15201.00</td>\n",
       "      <td>16871900160</td>\n",
       "      <td>255080562912</td>\n",
       "    </tr>\n",
       "    <tr>\n",
       "      <th>2018-01-02</th>\n",
       "      <td>Jan 02, 2018</td>\n",
       "      <td>13625.00</td>\n",
       "      <td>15444.60</td>\n",
       "      <td>13163.60</td>\n",
       "      <td>14982.10</td>\n",
       "      <td>16846600192</td>\n",
       "      <td>251377913955</td>\n",
       "    </tr>\n",
       "    <tr>\n",
       "      <th>2018-01-01</th>\n",
       "      <td>Jan 01, 2018</td>\n",
       "      <td>14112.20</td>\n",
       "      <td>14112.20</td>\n",
       "      <td>13154.70</td>\n",
       "      <td>13657.20</td>\n",
       "      <td>10291200000</td>\n",
       "      <td>229119155396</td>\n",
       "    </tr>\n",
       "  </tbody>\n",
       "</table>\n",
       "<p>413 rows × 7 columns</p>\n",
       "</div>"
      ],
      "text/plain": [
       "                    date      open      high       low     close       volume  \\\n",
       "Date                                                                            \n",
       "2019-02-17  Feb 17, 2019   3633.36   3680.54   3619.18   3673.84   7039512503   \n",
       "2019-02-16  Feb 16, 2019   3615.27   3652.84   3615.27   3629.79   5934744052   \n",
       "2019-02-15  Feb 15, 2019   3617.37   3647.80   3608.21   3620.81   6091952231   \n",
       "2019-02-14  Feb 14, 2019   3631.17   3646.26   3607.70   3616.88   6271044418   \n",
       "2019-02-13  Feb 13, 2019   3653.60   3669.75   3617.25   3632.07   6438903823   \n",
       "2019-02-12  Feb 12, 2019   3642.75   3668.59   3618.56   3653.53   6480384532   \n",
       "2019-02-11  Feb 11, 2019   3695.61   3695.61   3642.29   3648.43   6277056434   \n",
       "2019-02-10  Feb 10, 2019   3673.20   3695.04   3640.98   3690.19   6282256903   \n",
       "2019-02-09  Feb 09, 2019   3671.59   3679.94   3646.56   3671.20   6158833645   \n",
       "2019-02-08  Feb 08, 2019   3401.38   3695.61   3391.02   3666.78   7735623101   \n",
       "2019-02-07  Feb 07, 2019   3414.93   3427.95   3394.22   3399.47   5004962683   \n",
       "2019-02-06  Feb 06, 2019   3469.09   3469.09   3398.57   3413.77   5482196038   \n",
       "2019-02-05  Feb 05, 2019   3454.95   3478.15   3451.94   3466.36   5227549545   \n",
       "2019-02-04  Feb 04, 2019   3467.21   3476.22   3442.59   3459.15   5332718886   \n",
       "2019-02-03  Feb 03, 2019   3516.14   3521.39   3447.92   3464.01   5043937584   \n",
       "2019-02-02  Feb 02, 2019   3484.63   3523.29   3467.57   3521.06   5071623601   \n",
       "2019-02-01  Feb 01, 2019   3460.55   3501.95   3431.59   3487.95   5422926707   \n",
       "2019-01-31  Jan 31, 2019   3485.41   3504.80   3447.92   3457.79   5831198271   \n",
       "2019-01-30  Jan 30, 2019   3443.90   3495.17   3429.39   3486.18   5955112627   \n",
       "2019-01-29  Jan 29, 2019   3468.87   3476.07   3400.82   3448.12   5897159493   \n",
       "2019-01-28  Jan 28, 2019   3584.28   3586.75   3439.23   3470.45   6908930483   \n",
       "2019-01-27  Jan 27, 2019   3604.69   3612.67   3567.25   3583.97   5570752966   \n",
       "2019-01-26  Jan 26, 2019   3599.72   3654.93   3593.35   3602.46   5098183235   \n",
       "2019-01-25  Jan 25, 2019   3607.39   3612.93   3575.60   3599.77   5265847539   \n",
       "2019-01-24  Jan 24, 2019   3584.50   3616.09   3569.09   3600.87   5262869046   \n",
       "2019-01-23  Jan 23, 2019   3605.56   3623.07   3565.31   3585.12   5433755649   \n",
       "2019-01-22  Jan 22, 2019   3575.08   3620.75   3539.72   3604.58   5313623556   \n",
       "2019-01-21  Jan 21, 2019   3600.37   3608.84   3558.54   3576.03   5004347059   \n",
       "2019-01-20  Jan 20, 2019   3725.45   3743.39   3583.02   3601.01   5582489560   \n",
       "2019-01-19  Jan 19, 2019   3652.38   3758.53   3652.38   3728.57   5955691380   \n",
       "...                  ...       ...       ...       ...       ...          ...   \n",
       "2018-01-30  Jan 30, 2018  11306.80  11307.20  10036.20  10106.30   8637859840   \n",
       "2018-01-29  Jan 29, 2018  11755.50  11875.60  11179.20  11296.40   7107359744   \n",
       "2018-01-28  Jan 28, 2018  11475.30  12040.30  11475.30  11786.30   8350360064   \n",
       "2018-01-27  Jan 27, 2018  11174.90  11614.90  10989.20  11440.70   7583269888   \n",
       "2018-01-26  Jan 26, 2018  11256.00  11656.70  10470.30  11171.40   9746199552   \n",
       "2018-01-25  Jan 25, 2018  11421.70  11785.70  11057.40  11259.40   8873169920   \n",
       "2018-01-24  Jan 24, 2018  10903.40  11501.40  10639.80  11359.40   9940989952   \n",
       "2018-01-23  Jan 23, 2018  10944.50  11377.60  10129.70  10868.40   9660609536   \n",
       "2018-01-22  Jan 22, 2018  11633.10  11966.40  10240.20  10931.40  10537400320   \n",
       "2018-01-21  Jan 21, 2018  12889.20  12895.90  11288.20  11600.10   9935179776   \n",
       "2018-01-20  Jan 20, 2018  11656.20  13103.00  11656.20  12899.20  11801700352   \n",
       "2018-01-19  Jan 19, 2018  11429.80  11992.80  11172.10  11607.40  10740400128   \n",
       "2018-01-18  Jan 18, 2018  11198.80  12107.30  10942.50  11474.90  15020399616   \n",
       "2018-01-17  Jan 17, 2018  11431.10  11678.00   9402.29  11188.60  18830600192   \n",
       "2018-01-16  Jan 16, 2018  13836.10  13843.10  10194.90  11490.50  18853799936   \n",
       "2018-01-15  Jan 15, 2018  13767.30  14445.50  13641.70  13819.80  12750799872   \n",
       "2018-01-14  Jan 14, 2018  14370.80  14511.80  13268.00  13772.00  11084099584   \n",
       "2018-01-13  Jan 13, 2018  13952.40  14659.50  13952.40  14360.20  12763599872   \n",
       "2018-01-12  Jan 12, 2018  13453.90  14229.90  13158.10  13980.60  12065699840   \n",
       "2018-01-11  Jan 11, 2018  14968.20  15018.80  13105.90  13405.80  16534099968   \n",
       "2018-01-10  Jan 10, 2018  14588.50  14973.30  13691.20  14973.30  18500800512   \n",
       "2018-01-09  Jan 09, 2018  15123.70  15497.50  14424.00  14595.40  16659999744   \n",
       "2018-01-08  Jan 08, 2018  16476.20  16537.90  14208.20  15170.10  18413899776   \n",
       "2018-01-07  Jan 07, 2018  17527.30  17579.60  16087.70  16477.60  15866000384   \n",
       "2018-01-06  Jan 06, 2018  17462.10  17712.40  16764.60  17527.00  18314600448   \n",
       "2018-01-05  Jan 05, 2018  15477.20  17705.20  15202.80  17429.50  23840899072   \n",
       "2018-01-04  Jan 04, 2018  15270.70  15739.70  14522.20  15599.20  21783199744   \n",
       "2018-01-03  Jan 03, 2018  14978.20  15572.80  14844.50  15201.00  16871900160   \n",
       "2018-01-02  Jan 02, 2018  13625.00  15444.60  13163.60  14982.10  16846600192   \n",
       "2018-01-01  Jan 01, 2018  14112.20  14112.20  13154.70  13657.20  10291200000   \n",
       "\n",
       "              market cap  \n",
       "Date                      \n",
       "2019-02-17   64453368779  \n",
       "2019-02-16   63673369195  \n",
       "2019-02-15   63509111125  \n",
       "2019-02-14   63434486052  \n",
       "2019-02-13   63694394519  \n",
       "2019-02-12   64063755250  \n",
       "2019-02-11   63968390250  \n",
       "2019-02-10   64694025951  \n",
       "2019-02-09   64354732475  \n",
       "2019-02-08   64270269953  \n",
       "2019-02-07   59578075991  \n",
       "2019-02-06   59821158612  \n",
       "2019-02-05   60735563490  \n",
       "2019-02-04   60603083461  \n",
       "2019-02-03   60681847608  \n",
       "2019-02-02   61675119055  \n",
       "2019-02-01   61088747491  \n",
       "2019-01-31   60553903928  \n",
       "2019-01-30   61044262622  \n",
       "2019-01-29   60371874099  \n",
       "2019-01-28   60756570314  \n",
       "2019-01-27   62737274093  \n",
       "2019-01-26   63054898963  \n",
       "2019-01-25   63000985908  \n",
       "2019-01-24   63014066012  \n",
       "2019-01-23   62731361272  \n",
       "2019-01-22   63065139424  \n",
       "2019-01-21   62559869612  \n",
       "2019-01-20   62990143284  \n",
       "2019-01-19   65214103659  \n",
       "...                  ...  \n",
       "2018-01-30  170151556678  \n",
       "2018-01-29  190164444830  \n",
       "2018-01-28  198389948175  \n",
       "2018-01-27  192550550498  \n",
       "2018-01-26  187995804677  \n",
       "2018-01-25  189455303273  \n",
       "2018-01-24  191115225673  \n",
       "2018-01-23  182830257191  \n",
       "2018-01-22  183866421285  \n",
       "2018-01-21  195089460991  \n",
       "2018-01-20  216907619830  \n",
       "2018-01-19  195158837709  \n",
       "2018-01-18  192907550324  \n",
       "2018-01-17  188070430523  \n",
       "2018-01-16  193121120762  \n",
       "2018-01-15  232242775485  \n",
       "2018-01-14  231413491364  \n",
       "2018-01-13  241268592240  \n",
       "2018-01-12  234865160377  \n",
       "2018-01-11  225178724050  \n",
       "2018-01-10  251472635522  \n",
       "2018-01-09  245095808695  \n",
       "2018-01-08  254715263101  \n",
       "2018-01-07  276634797271  \n",
       "2018-01-06  294217423675  \n",
       "2018-01-05  292544135538  \n",
       "2018-01-04  261795321110  \n",
       "2018-01-03  255080562912  \n",
       "2018-01-02  251377913955  \n",
       "2018-01-01  229119155396  \n",
       "\n",
       "[413 rows x 7 columns]"
      ]
     },
     "execution_count": 62,
     "metadata": {},
     "output_type": "execute_result"
    }
   ],
   "source": [
    "bitcoin"
   ]
  },
  {
   "cell_type": "code",
   "execution_count": 63,
   "metadata": {},
   "outputs": [
    {
     "data": {
      "text/plain": [
       "<matplotlib.axes._subplots.AxesSubplot at 0x1226ba048>"
      ]
     },
     "execution_count": 63,
     "metadata": {},
     "output_type": "execute_result"
    },
    {
     "data": {
      "image/png": "[encoded data removed]",
      "text/plain": [
       "<Figure size 432x288 with 1 Axes>"
      ]
     },
     "metadata": {
      "needs_background": "light"
     },
     "output_type": "display_data"
    }
   ],
   "source": [
    "bitcoin[\"market cap\"].plot()"
   ]
  },
  {
   "cell_type": "code",
   "execution_count": 64,
   "metadata": {},
   "outputs": [
    {
     "data": {
      "text/plain": [
       "<matplotlib.axes._subplots.AxesSubplot at 0x122405a90>"
      ]
     },
     "execution_count": 64,
     "metadata": {},
     "output_type": "execute_result"
    },
    {
     "data": {
      "image/png": "[encoded data removed]",
      "text/plain": [
       "<Figure size 432x288 with 1 Axes>"
      ]
     },
     "metadata": {
      "needs_background": "light"
     },
     "output_type": "display_data"
    }
   ],
   "source": [
    "bitcoin[\"close\"].plot()"
   ]
  },
  {
   "cell_type": "code",
   "execution_count": 65,
   "metadata": {},
   "outputs": [
    {
     "data": {
      "text/plain": [
       "<matplotlib.axes._subplots.AxesSubplot at 0x12572aef0>"
      ]
     },
     "execution_count": 65,
     "metadata": {},
     "output_type": "execute_result"
    },
    {
     "data": {
      "image/png": "[encoded data removed]",
      "text/plain": [
       "<Figure size 432x288 with 1 Axes>"
      ]
     },
     "metadata": {
      "needs_background": "light"
     },
     "output_type": "display_data"
    }
   ],
   "source": [
    "bitcoin[\"volume\"].plot()"
   ]
  },
  {
   "cell_type": "code",
   "execution_count": null,
   "metadata": {},
   "outputs": [],
   "source": []
  }
 ],
 "metadata": {
  "kernelspec": {
   "display_name": "Python 3",
   "language": "python",
   "name": "python3"
  },
  "language_info": {
   "codemirror_mode": {
    "name": "ipython",
    "version": 3
   },
   "file_extension": ".py",
   "mimetype": "text/x-python",
   "name": "python",
   "nbconvert_exporter": "python",
   "pygments_lexer": "ipython3",
   "version": "3.6.8"
  }
 },
 "nbformat": 4,
 "nbformat_minor": 2
}
