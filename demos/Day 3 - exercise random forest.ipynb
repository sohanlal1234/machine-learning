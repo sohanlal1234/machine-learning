{
 "cells": [
  {
   "cell_type": "markdown",
   "metadata": {},
   "source": [
    "- Use the credit default dataset and build a decision tree model and a random forest model for predicting \"default\" outcome based on the others. \n",
    "- What is the Gini score at the root?\n",
    "- Tune the decision tree model to find the combination of max depth and the criterion that maximize the accuracy score.\n",
    "- As per decision tree model, which are most important features? \n",
    "- Tune the random forest model to find the max depth, n_estimators, min_samples_leaf, and criterion that maximize the recall score.\n"
   ]
  },
  {
   "cell_type": "code",
   "execution_count": null,
   "metadata": {},
   "outputs": [],
   "source": []
  }
 ],
 "metadata": {
  "kernelspec": {
   "display_name": "Python 3",
   "language": "python",
   "name": "python3"
  },
  "language_info": {
   "codemirror_mode": {
    "name": "ipython",
    "version": 3
   },
   "file_extension": ".py",
   "mimetype": "text/x-python",
   "name": "python",
   "nbconvert_exporter": "python",
   "pygments_lexer": "ipython3",
   "version": "3.6.8"
  }
 },
 "nbformat": 4,
 "nbformat_minor": 2
}
